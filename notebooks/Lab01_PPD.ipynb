{
  "nbformat": 4,
  "nbformat_minor": 0,
  "metadata": {
    "colab": {
      "name": "Lab01-PPD.ipynb",
      "provenance": [],
      "collapsed_sections": [],
      "mount_file_id": "1L-5uJvWMOnDqgux_YHGXXh_RpffBcvLq",
      "authorship_tag": "ABX9TyNI9CaKp1yH6tYABpIsP2qb",
      "include_colab_link": true
    },
    "kernelspec": {
      "name": "python3",
      "display_name": "Python 3"
    },
    "language_info": {
      "name": "python"
    }
  },
  "cells": [
    {
      "cell_type": "markdown",
      "metadata": {
        "id": "view-in-github",
        "colab_type": "text"
      },
      "source": [
        "<a href=\"https://colab.research.google.com/github/gianninimail/ppd/blob/main/Lab01_PPD.ipynb\" target=\"_parent\"><img src=\"https://colab.research.google.com/assets/colab-badge.svg\" alt=\"Open In Colab\"/></a>"
      ]
    },
    {
      "cell_type": "markdown",
      "metadata": {
        "id": "GpGxb2OCiuTU"
      },
      "source": [
        "# Exploração dos Dados - Seleção"
      ]
    },
    {
      "cell_type": "code",
      "metadata": {
        "id": "sVQ_SN7wh0oF"
      },
      "source": [
        "import pandas as pd #Importando Libs para exploração do dados"
      ],
      "execution_count": 23,
      "outputs": []
    },
    {
      "cell_type": "code",
      "metadata": {
        "id": "vLz_FN3OjkEv"
      },
      "source": [
        "df = pd.read_csv('/content/drive/MyDrive/PPD/files/results.csv')"
      ],
      "execution_count": 24,
      "outputs": []
    },
    {
      "cell_type": "code",
      "metadata": {
        "colab": {
          "base_uri": "https://localhost:8080/",
          "height": 419
        },
        "id": "0Ht-eaUslWaH",
        "outputId": "5b81e95a-9450-437b-a65a-4e485ed2fd97"
      },
      "source": [
        "df #Mostrar resumo dos dados"
      ],
      "execution_count": 25,
      "outputs": [
        {
          "output_type": "execute_result",
          "data": {
            "text/html": [
              "<div>\n",
              "<style scoped>\n",
              "    .dataframe tbody tr th:only-of-type {\n",
              "        vertical-align: middle;\n",
              "    }\n",
              "\n",
              "    .dataframe tbody tr th {\n",
              "        vertical-align: top;\n",
              "    }\n",
              "\n",
              "    .dataframe thead th {\n",
              "        text-align: right;\n",
              "    }\n",
              "</style>\n",
              "<table border=\"1\" class=\"dataframe\">\n",
              "  <thead>\n",
              "    <tr style=\"text-align: right;\">\n",
              "      <th></th>\n",
              "      <th>date</th>\n",
              "      <th>home_team</th>\n",
              "      <th>away_team</th>\n",
              "      <th>home_score</th>\n",
              "      <th>away_score</th>\n",
              "      <th>tournament</th>\n",
              "      <th>city</th>\n",
              "      <th>country</th>\n",
              "      <th>neutral</th>\n",
              "    </tr>\n",
              "  </thead>\n",
              "  <tbody>\n",
              "    <tr>\n",
              "      <th>0</th>\n",
              "      <td>1969-11-01</td>\n",
              "      <td>Italy</td>\n",
              "      <td>France</td>\n",
              "      <td>1</td>\n",
              "      <td>0</td>\n",
              "      <td>Euro</td>\n",
              "      <td>Novara</td>\n",
              "      <td>Italy</td>\n",
              "      <td>False</td>\n",
              "    </tr>\n",
              "    <tr>\n",
              "      <th>1</th>\n",
              "      <td>1969-11-01</td>\n",
              "      <td>Denmark</td>\n",
              "      <td>England</td>\n",
              "      <td>4</td>\n",
              "      <td>3</td>\n",
              "      <td>Euro</td>\n",
              "      <td>Aosta</td>\n",
              "      <td>Italy</td>\n",
              "      <td>True</td>\n",
              "    </tr>\n",
              "    <tr>\n",
              "      <th>2</th>\n",
              "      <td>1969-11-02</td>\n",
              "      <td>England</td>\n",
              "      <td>France</td>\n",
              "      <td>2</td>\n",
              "      <td>0</td>\n",
              "      <td>Euro</td>\n",
              "      <td>Turin</td>\n",
              "      <td>Italy</td>\n",
              "      <td>True</td>\n",
              "    </tr>\n",
              "    <tr>\n",
              "      <th>3</th>\n",
              "      <td>1969-11-02</td>\n",
              "      <td>Italy</td>\n",
              "      <td>Denmark</td>\n",
              "      <td>3</td>\n",
              "      <td>1</td>\n",
              "      <td>Euro</td>\n",
              "      <td>Turin</td>\n",
              "      <td>Italy</td>\n",
              "      <td>False</td>\n",
              "    </tr>\n",
              "    <tr>\n",
              "      <th>4</th>\n",
              "      <td>1975-08-25</td>\n",
              "      <td>Thailand</td>\n",
              "      <td>Australia</td>\n",
              "      <td>3</td>\n",
              "      <td>2</td>\n",
              "      <td>AFC Championship</td>\n",
              "      <td>Hong Kong</td>\n",
              "      <td>Hong Kong</td>\n",
              "      <td>True</td>\n",
              "    </tr>\n",
              "    <tr>\n",
              "      <th>...</th>\n",
              "      <td>...</td>\n",
              "      <td>...</td>\n",
              "      <td>...</td>\n",
              "      <td>...</td>\n",
              "      <td>...</td>\n",
              "      <td>...</td>\n",
              "      <td>...</td>\n",
              "      <td>...</td>\n",
              "      <td>...</td>\n",
              "    </tr>\n",
              "    <tr>\n",
              "      <th>4291</th>\n",
              "      <td>2021-04-10</td>\n",
              "      <td>Sweden</td>\n",
              "      <td>United States</td>\n",
              "      <td>1</td>\n",
              "      <td>1</td>\n",
              "      <td>Friendly</td>\n",
              "      <td>Solna</td>\n",
              "      <td>Sweden</td>\n",
              "      <td>False</td>\n",
              "    </tr>\n",
              "    <tr>\n",
              "      <th>4292</th>\n",
              "      <td>2021-04-11</td>\n",
              "      <td>Argentina</td>\n",
              "      <td>Venezuela</td>\n",
              "      <td>1</td>\n",
              "      <td>0</td>\n",
              "      <td>Basque Country Women's Cup</td>\n",
              "      <td>San Sebastian</td>\n",
              "      <td>Spain</td>\n",
              "      <td>True</td>\n",
              "    </tr>\n",
              "    <tr>\n",
              "      <th>4293</th>\n",
              "      <td>2021-04-11</td>\n",
              "      <td>Basque Country</td>\n",
              "      <td>Argentina</td>\n",
              "      <td>1</td>\n",
              "      <td>0</td>\n",
              "      <td>Basque Country Women's Cup</td>\n",
              "      <td>San Sebastian</td>\n",
              "      <td>Spain</td>\n",
              "      <td>True</td>\n",
              "    </tr>\n",
              "    <tr>\n",
              "      <th>4294</th>\n",
              "      <td>2021-04-11</td>\n",
              "      <td>Basque Country</td>\n",
              "      <td>Venezuela</td>\n",
              "      <td>0</td>\n",
              "      <td>0</td>\n",
              "      <td>Basque Country Women's Cup</td>\n",
              "      <td>San Sebastian</td>\n",
              "      <td>Spain</td>\n",
              "      <td>True</td>\n",
              "    </tr>\n",
              "    <tr>\n",
              "      <th>4295</th>\n",
              "      <td>2021-04-14</td>\n",
              "      <td>France</td>\n",
              "      <td>United States</td>\n",
              "      <td>0</td>\n",
              "      <td>2</td>\n",
              "      <td>Friendly</td>\n",
              "      <td>Le Havre</td>\n",
              "      <td>France</td>\n",
              "      <td>False</td>\n",
              "    </tr>\n",
              "  </tbody>\n",
              "</table>\n",
              "<p>4296 rows × 9 columns</p>\n",
              "</div>"
            ],
            "text/plain": [
              "            date       home_team  ...    country  neutral\n",
              "0     1969-11-01           Italy  ...      Italy    False\n",
              "1     1969-11-01         Denmark  ...      Italy     True\n",
              "2     1969-11-02         England  ...      Italy     True\n",
              "3     1969-11-02           Italy  ...      Italy    False\n",
              "4     1975-08-25        Thailand  ...  Hong Kong     True\n",
              "...          ...             ...  ...        ...      ...\n",
              "4291  2021-04-10          Sweden  ...     Sweden    False\n",
              "4292  2021-04-11       Argentina  ...      Spain     True\n",
              "4293  2021-04-11  Basque Country  ...      Spain     True\n",
              "4294  2021-04-11  Basque Country  ...      Spain     True\n",
              "4295  2021-04-14          France  ...     France    False\n",
              "\n",
              "[4296 rows x 9 columns]"
            ]
          },
          "metadata": {},
          "execution_count": 25
        }
      ]
    },
    {
      "cell_type": "code",
      "metadata": {
        "colab": {
          "base_uri": "https://localhost:8080/",
          "height": 359
        },
        "id": "6CjcCyS5lja-",
        "outputId": "2b891771-3ced-483f-bf8d-5f7222749046"
      },
      "source": [
        "df.head(10) # Mostra primeiras linhas do DF"
      ],
      "execution_count": 26,
      "outputs": [
        {
          "output_type": "execute_result",
          "data": {
            "text/html": [
              "<div>\n",
              "<style scoped>\n",
              "    .dataframe tbody tr th:only-of-type {\n",
              "        vertical-align: middle;\n",
              "    }\n",
              "\n",
              "    .dataframe tbody tr th {\n",
              "        vertical-align: top;\n",
              "    }\n",
              "\n",
              "    .dataframe thead th {\n",
              "        text-align: right;\n",
              "    }\n",
              "</style>\n",
              "<table border=\"1\" class=\"dataframe\">\n",
              "  <thead>\n",
              "    <tr style=\"text-align: right;\">\n",
              "      <th></th>\n",
              "      <th>date</th>\n",
              "      <th>home_team</th>\n",
              "      <th>away_team</th>\n",
              "      <th>home_score</th>\n",
              "      <th>away_score</th>\n",
              "      <th>tournament</th>\n",
              "      <th>city</th>\n",
              "      <th>country</th>\n",
              "      <th>neutral</th>\n",
              "    </tr>\n",
              "  </thead>\n",
              "  <tbody>\n",
              "    <tr>\n",
              "      <th>0</th>\n",
              "      <td>1969-11-01</td>\n",
              "      <td>Italy</td>\n",
              "      <td>France</td>\n",
              "      <td>1</td>\n",
              "      <td>0</td>\n",
              "      <td>Euro</td>\n",
              "      <td>Novara</td>\n",
              "      <td>Italy</td>\n",
              "      <td>False</td>\n",
              "    </tr>\n",
              "    <tr>\n",
              "      <th>1</th>\n",
              "      <td>1969-11-01</td>\n",
              "      <td>Denmark</td>\n",
              "      <td>England</td>\n",
              "      <td>4</td>\n",
              "      <td>3</td>\n",
              "      <td>Euro</td>\n",
              "      <td>Aosta</td>\n",
              "      <td>Italy</td>\n",
              "      <td>True</td>\n",
              "    </tr>\n",
              "    <tr>\n",
              "      <th>2</th>\n",
              "      <td>1969-11-02</td>\n",
              "      <td>England</td>\n",
              "      <td>France</td>\n",
              "      <td>2</td>\n",
              "      <td>0</td>\n",
              "      <td>Euro</td>\n",
              "      <td>Turin</td>\n",
              "      <td>Italy</td>\n",
              "      <td>True</td>\n",
              "    </tr>\n",
              "    <tr>\n",
              "      <th>3</th>\n",
              "      <td>1969-11-02</td>\n",
              "      <td>Italy</td>\n",
              "      <td>Denmark</td>\n",
              "      <td>3</td>\n",
              "      <td>1</td>\n",
              "      <td>Euro</td>\n",
              "      <td>Turin</td>\n",
              "      <td>Italy</td>\n",
              "      <td>False</td>\n",
              "    </tr>\n",
              "    <tr>\n",
              "      <th>4</th>\n",
              "      <td>1975-08-25</td>\n",
              "      <td>Thailand</td>\n",
              "      <td>Australia</td>\n",
              "      <td>3</td>\n",
              "      <td>2</td>\n",
              "      <td>AFC Championship</td>\n",
              "      <td>Hong Kong</td>\n",
              "      <td>Hong Kong</td>\n",
              "      <td>True</td>\n",
              "    </tr>\n",
              "    <tr>\n",
              "      <th>5</th>\n",
              "      <td>1975-08-25</td>\n",
              "      <td>Hong Kong</td>\n",
              "      <td>New Zealand</td>\n",
              "      <td>0</td>\n",
              "      <td>2</td>\n",
              "      <td>AFC Championship</td>\n",
              "      <td>Hong Kong</td>\n",
              "      <td>Hong Kong</td>\n",
              "      <td>False</td>\n",
              "    </tr>\n",
              "    <tr>\n",
              "      <th>6</th>\n",
              "      <td>1975-08-27</td>\n",
              "      <td>Thailand</td>\n",
              "      <td>Singapore</td>\n",
              "      <td>3</td>\n",
              "      <td>0</td>\n",
              "      <td>AFC Championship</td>\n",
              "      <td>Hong Kong</td>\n",
              "      <td>Hong Kong</td>\n",
              "      <td>True</td>\n",
              "    </tr>\n",
              "    <tr>\n",
              "      <th>7</th>\n",
              "      <td>1975-08-27</td>\n",
              "      <td>New Zealand</td>\n",
              "      <td>Malaysia</td>\n",
              "      <td>3</td>\n",
              "      <td>0</td>\n",
              "      <td>AFC Championship</td>\n",
              "      <td>Hong Kong</td>\n",
              "      <td>Hong Kong</td>\n",
              "      <td>True</td>\n",
              "    </tr>\n",
              "    <tr>\n",
              "      <th>8</th>\n",
              "      <td>1975-08-29</td>\n",
              "      <td>Australia</td>\n",
              "      <td>Singapore</td>\n",
              "      <td>3</td>\n",
              "      <td>0</td>\n",
              "      <td>AFC Championship</td>\n",
              "      <td>Hong Kong</td>\n",
              "      <td>Hong Kong</td>\n",
              "      <td>True</td>\n",
              "    </tr>\n",
              "    <tr>\n",
              "      <th>9</th>\n",
              "      <td>1975-08-29</td>\n",
              "      <td>Hong Kong</td>\n",
              "      <td>Malaysia</td>\n",
              "      <td>0</td>\n",
              "      <td>2</td>\n",
              "      <td>AFC Championship</td>\n",
              "      <td>Hong Kong</td>\n",
              "      <td>Hong Kong</td>\n",
              "      <td>False</td>\n",
              "    </tr>\n",
              "  </tbody>\n",
              "</table>\n",
              "</div>"
            ],
            "text/plain": [
              "         date    home_team    away_team  ...       city    country neutral\n",
              "0  1969-11-01        Italy       France  ...     Novara      Italy   False\n",
              "1  1969-11-01      Denmark      England  ...      Aosta      Italy    True\n",
              "2  1969-11-02      England       France  ...      Turin      Italy    True\n",
              "3  1969-11-02        Italy      Denmark  ...      Turin      Italy   False\n",
              "4  1975-08-25     Thailand    Australia  ...  Hong Kong  Hong Kong    True\n",
              "5  1975-08-25    Hong Kong  New Zealand  ...  Hong Kong  Hong Kong   False\n",
              "6  1975-08-27     Thailand    Singapore  ...  Hong Kong  Hong Kong    True\n",
              "7  1975-08-27  New Zealand     Malaysia  ...  Hong Kong  Hong Kong    True\n",
              "8  1975-08-29    Australia    Singapore  ...  Hong Kong  Hong Kong    True\n",
              "9  1975-08-29    Hong Kong     Malaysia  ...  Hong Kong  Hong Kong   False\n",
              "\n",
              "[10 rows x 9 columns]"
            ]
          },
          "metadata": {},
          "execution_count": 26
        }
      ]
    },
    {
      "cell_type": "code",
      "metadata": {
        "colab": {
          "base_uri": "https://localhost:8080/"
        },
        "id": "VcyNY_EwlvUI",
        "outputId": "d432a13d-41c3-4761-bc86-4eb9436f9555"
      },
      "source": [
        "df.shape"
      ],
      "execution_count": 27,
      "outputs": [
        {
          "output_type": "execute_result",
          "data": {
            "text/plain": [
              "(4296, 9)"
            ]
          },
          "metadata": {},
          "execution_count": 27
        }
      ]
    },
    {
      "cell_type": "code",
      "metadata": {
        "colab": {
          "base_uri": "https://localhost:8080/",
          "height": 297
        },
        "id": "QSqwYvl9mS4v",
        "outputId": "82d11125-db0b-4305-f1bf-7e6b44a49981"
      },
      "source": [
        "df.describe() # Estatísticas descritivas básicas"
      ],
      "execution_count": 28,
      "outputs": [
        {
          "output_type": "execute_result",
          "data": {
            "text/html": [
              "<div>\n",
              "<style scoped>\n",
              "    .dataframe tbody tr th:only-of-type {\n",
              "        vertical-align: middle;\n",
              "    }\n",
              "\n",
              "    .dataframe tbody tr th {\n",
              "        vertical-align: top;\n",
              "    }\n",
              "\n",
              "    .dataframe thead th {\n",
              "        text-align: right;\n",
              "    }\n",
              "</style>\n",
              "<table border=\"1\" class=\"dataframe\">\n",
              "  <thead>\n",
              "    <tr style=\"text-align: right;\">\n",
              "      <th></th>\n",
              "      <th>home_score</th>\n",
              "      <th>away_score</th>\n",
              "    </tr>\n",
              "  </thead>\n",
              "  <tbody>\n",
              "    <tr>\n",
              "      <th>count</th>\n",
              "      <td>4296.000000</td>\n",
              "      <td>4296.000000</td>\n",
              "    </tr>\n",
              "    <tr>\n",
              "      <th>mean</th>\n",
              "      <td>2.327747</td>\n",
              "      <td>1.428771</td>\n",
              "    </tr>\n",
              "    <tr>\n",
              "      <th>std</th>\n",
              "      <td>2.787989</td>\n",
              "      <td>1.999546</td>\n",
              "    </tr>\n",
              "    <tr>\n",
              "      <th>min</th>\n",
              "      <td>0.000000</td>\n",
              "      <td>0.000000</td>\n",
              "    </tr>\n",
              "    <tr>\n",
              "      <th>25%</th>\n",
              "      <td>0.000000</td>\n",
              "      <td>0.000000</td>\n",
              "    </tr>\n",
              "    <tr>\n",
              "      <th>50%</th>\n",
              "      <td>2.000000</td>\n",
              "      <td>1.000000</td>\n",
              "    </tr>\n",
              "    <tr>\n",
              "      <th>75%</th>\n",
              "      <td>3.000000</td>\n",
              "      <td>2.000000</td>\n",
              "    </tr>\n",
              "    <tr>\n",
              "      <th>max</th>\n",
              "      <td>24.000000</td>\n",
              "      <td>24.000000</td>\n",
              "    </tr>\n",
              "  </tbody>\n",
              "</table>\n",
              "</div>"
            ],
            "text/plain": [
              "        home_score   away_score\n",
              "count  4296.000000  4296.000000\n",
              "mean      2.327747     1.428771\n",
              "std       2.787989     1.999546\n",
              "min       0.000000     0.000000\n",
              "25%       0.000000     0.000000\n",
              "50%       2.000000     1.000000\n",
              "75%       3.000000     2.000000\n",
              "max      24.000000    24.000000"
            ]
          },
          "metadata": {},
          "execution_count": 28
        }
      ]
    },
    {
      "cell_type": "code",
      "metadata": {
        "colab": {
          "base_uri": "https://localhost:8080/"
        },
        "id": "XjvKiFzqmiSZ",
        "outputId": "3abb306f-c41f-4419-f766-335be90c4c38"
      },
      "source": [
        "list(df)"
      ],
      "execution_count": 29,
      "outputs": [
        {
          "output_type": "execute_result",
          "data": {
            "text/plain": [
              "['date',\n",
              " 'home_team',\n",
              " 'away_team',\n",
              " 'home_score',\n",
              " 'away_score',\n",
              " 'tournament',\n",
              " 'city',\n",
              " 'country',\n",
              " 'neutral']"
            ]
          },
          "metadata": {},
          "execution_count": 29
        }
      ]
    },
    {
      "cell_type": "code",
      "metadata": {
        "colab": {
          "base_uri": "https://localhost:8080/"
        },
        "id": "ZL9DeDW8nGAv",
        "outputId": "f76c69d8-bf99-4fcb-d89e-131dbbc28851"
      },
      "source": [
        "df['home_team'].unique()"
      ],
      "execution_count": 30,
      "outputs": [
        {
          "output_type": "execute_result",
          "data": {
            "text/plain": [
              "array(['Italy', 'Denmark', 'England', 'Thailand', 'Hong Kong',\n",
              "       'New Zealand', 'Australia', 'Taiwan', 'Indonesia', 'Singapore',\n",
              "       'Sweden', 'Northern Ireland', 'France', 'Switzerland', 'Wales',\n",
              "       'India S', 'India N', 'Western Australia', 'India', 'Japan',\n",
              "       'Finland', 'Norway', 'Iceland', 'Scotland', 'Belgium',\n",
              "       'Netherlands', 'Republic of Ireland', 'Portugal', 'Germany',\n",
              "       'Malaysia', 'Philippines', 'New Caledonia', 'Hungary', 'Spain',\n",
              "       'China PR', 'Bulgaria', 'Czechoslovakia', 'Poland', 'North Korea',\n",
              "       'Nigeria', 'Ghana', 'Canada', 'Haiti', 'United States',\n",
              "       'Martinique', 'Trinidad and Tobago', 'Jamaica', 'Brazil', 'Chile',\n",
              "       'Guinea', 'Papua New Guinea', 'Cameroon', 'Russia', 'Greece',\n",
              "       'Romania', 'Yugoslavia', 'Lithuania', 'Ukraine', 'Latvia',\n",
              "       'Slovenia', 'Slovakia', 'Croatia', 'Czech Republic', 'Mexico',\n",
              "       'South Africa', 'Sierra Leone', 'Zambia', 'Argentina', 'Ecuador',\n",
              "       'Angola', 'Austria', 'Uzbekistan', 'Faroe Islands', 'South Korea',\n",
              "       'Kazakhstan', 'FR Yugoslavia', 'Belarus', 'Estonia', 'Turkey',\n",
              "       'Paraguay', 'Colombia', 'Uruguay', 'Venezuela', 'Bolivia', 'Peru',\n",
              "       'Mozambique', 'Egypt', 'Uganda', 'Eswatini', 'Lesotho',\n",
              "       'Guatemala', 'El Salvador', 'Costa Rica', 'Puerto Rico', 'Fiji',\n",
              "       'DR Congo', 'Morocco', 'Honduras', 'Nicaragua',\n",
              "       'Bosnia and Herzegovina', 'Israel', 'Vietnam', 'Guam', 'Gabon',\n",
              "       'Réunion', 'Zimbabwe', 'Algeria', 'Dominican Republic',\n",
              "       'Saint Lucia', 'Panama', 'Suriname', 'Tanzania',\n",
              "       'Equatorial Guinea', 'Mali', 'Ethiopia', 'Senegal', 'Eritrea',\n",
              "       'São Tomé and Príncipe', 'Ivory Coast', 'Cook Islands', 'Samoa',\n",
              "       'Armenia', 'Serbia and Montenegro', 'Malta', 'Congo', 'Malawi',\n",
              "       'Myanmar', 'Benin', 'Togo', 'Barbados', 'Antigua and Barbuda',\n",
              "       'Cayman Islands', 'Kenya', 'Netherlands Antilles',\n",
              "       'British Virgin Islands', 'U.S. Virgin Islands', 'Bermuda',\n",
              "       'Aruba', 'Saint Kitts and Nevis',\n",
              "       'Saint Vincent and the Grenadines', 'Dominica', 'Grenada',\n",
              "       'Luxembourg', 'Macedonia', 'Georgia', 'Azerbaijan', 'Tonga',\n",
              "       'Serbia', 'Iran', 'Tunisia', 'Kyrgyzstan', 'Palestine', 'Maldives',\n",
              "       'Jordan', 'Guyana', 'Namibia', 'Botswana',\n",
              "       'Turks and Caicos Islands', 'Anguilla', 'Cuba', 'Solomon Islands',\n",
              "       'Tahiti', 'Vanuatu', 'Great Britain', 'Bangladesh', 'Bahrain',\n",
              "       'Lebanon', 'Burkina Faso', 'Rwanda', 'Belize', 'Comoros',\n",
              "       'Moldova', 'Andorra', 'Albania', 'Montenegro', 'Libya',\n",
              "       'Mauritius', 'Tajikistan', 'United Arab Emirates', 'Iraq',\n",
              "       'Kosovo', 'Syria', 'Central African Republic', 'Gambia',\n",
              "       'Guadeloupe', 'Curaçao', 'American Samoa', 'Basque Country'],\n",
              "      dtype=object)"
            ]
          },
          "metadata": {},
          "execution_count": 30
        }
      ]
    },
    {
      "cell_type": "code",
      "metadata": {
        "colab": {
          "base_uri": "https://localhost:8080/",
          "height": 419
        },
        "id": "Jc55oFdsnPyB",
        "outputId": "9c492a18-c371-4850-a87a-991cd0656319"
      },
      "source": [
        "df.loc[df['home_team'] == 'Italy'] #Declaração explícita do LOC"
      ],
      "execution_count": 31,
      "outputs": [
        {
          "output_type": "execute_result",
          "data": {
            "text/html": [
              "<div>\n",
              "<style scoped>\n",
              "    .dataframe tbody tr th:only-of-type {\n",
              "        vertical-align: middle;\n",
              "    }\n",
              "\n",
              "    .dataframe tbody tr th {\n",
              "        vertical-align: top;\n",
              "    }\n",
              "\n",
              "    .dataframe thead th {\n",
              "        text-align: right;\n",
              "    }\n",
              "</style>\n",
              "<table border=\"1\" class=\"dataframe\">\n",
              "  <thead>\n",
              "    <tr style=\"text-align: right;\">\n",
              "      <th></th>\n",
              "      <th>date</th>\n",
              "      <th>home_team</th>\n",
              "      <th>away_team</th>\n",
              "      <th>home_score</th>\n",
              "      <th>away_score</th>\n",
              "      <th>tournament</th>\n",
              "      <th>city</th>\n",
              "      <th>country</th>\n",
              "      <th>neutral</th>\n",
              "    </tr>\n",
              "  </thead>\n",
              "  <tbody>\n",
              "    <tr>\n",
              "      <th>0</th>\n",
              "      <td>1969-11-01</td>\n",
              "      <td>Italy</td>\n",
              "      <td>France</td>\n",
              "      <td>1</td>\n",
              "      <td>0</td>\n",
              "      <td>Euro</td>\n",
              "      <td>Novara</td>\n",
              "      <td>Italy</td>\n",
              "      <td>False</td>\n",
              "    </tr>\n",
              "    <tr>\n",
              "      <th>3</th>\n",
              "      <td>1969-11-02</td>\n",
              "      <td>Italy</td>\n",
              "      <td>Denmark</td>\n",
              "      <td>3</td>\n",
              "      <td>1</td>\n",
              "      <td>Euro</td>\n",
              "      <td>Turin</td>\n",
              "      <td>Italy</td>\n",
              "      <td>False</td>\n",
              "    </tr>\n",
              "    <tr>\n",
              "      <th>24</th>\n",
              "      <td>1979-07-18</td>\n",
              "      <td>Italy</td>\n",
              "      <td>Northern Ireland</td>\n",
              "      <td>4</td>\n",
              "      <td>0</td>\n",
              "      <td>Euro</td>\n",
              "      <td>Naples</td>\n",
              "      <td>Italy</td>\n",
              "      <td>False</td>\n",
              "    </tr>\n",
              "    <tr>\n",
              "      <th>32</th>\n",
              "      <td>1979-07-22</td>\n",
              "      <td>Italy</td>\n",
              "      <td>Norway</td>\n",
              "      <td>2</td>\n",
              "      <td>1</td>\n",
              "      <td>Euro</td>\n",
              "      <td>Benevento</td>\n",
              "      <td>Italy</td>\n",
              "      <td>False</td>\n",
              "    </tr>\n",
              "    <tr>\n",
              "      <th>36</th>\n",
              "      <td>1979-07-25</td>\n",
              "      <td>Italy</td>\n",
              "      <td>England</td>\n",
              "      <td>3</td>\n",
              "      <td>1</td>\n",
              "      <td>Euro</td>\n",
              "      <td>Naples</td>\n",
              "      <td>Italy</td>\n",
              "      <td>False</td>\n",
              "    </tr>\n",
              "    <tr>\n",
              "      <th>...</th>\n",
              "      <td>...</td>\n",
              "      <td>...</td>\n",
              "      <td>...</td>\n",
              "      <td>...</td>\n",
              "      <td>...</td>\n",
              "      <td>...</td>\n",
              "      <td>...</td>\n",
              "      <td>...</td>\n",
              "      <td>...</td>\n",
              "    </tr>\n",
              "    <tr>\n",
              "      <th>3924</th>\n",
              "      <td>2018-04-10</td>\n",
              "      <td>Italy</td>\n",
              "      <td>Belgium</td>\n",
              "      <td>2</td>\n",
              "      <td>1</td>\n",
              "      <td>FIFA World Cup qualification</td>\n",
              "      <td>Ferrara</td>\n",
              "      <td>Italy</td>\n",
              "      <td>False</td>\n",
              "    </tr>\n",
              "    <tr>\n",
              "      <th>4018</th>\n",
              "      <td>2018-06-08</td>\n",
              "      <td>Italy</td>\n",
              "      <td>Portugal</td>\n",
              "      <td>3</td>\n",
              "      <td>0</td>\n",
              "      <td>FIFA World Cup qualification</td>\n",
              "      <td>Florence</td>\n",
              "      <td>Italy</td>\n",
              "      <td>False</td>\n",
              "    </tr>\n",
              "    <tr>\n",
              "      <th>4226</th>\n",
              "      <td>2019-06-18</td>\n",
              "      <td>Italy</td>\n",
              "      <td>Brazil</td>\n",
              "      <td>0</td>\n",
              "      <td>1</td>\n",
              "      <td>FIFA World Cup</td>\n",
              "      <td>Valenciennes</td>\n",
              "      <td>France</td>\n",
              "      <td>True</td>\n",
              "    </tr>\n",
              "    <tr>\n",
              "      <th>4239</th>\n",
              "      <td>2019-06-25</td>\n",
              "      <td>Italy</td>\n",
              "      <td>China PR</td>\n",
              "      <td>2</td>\n",
              "      <td>0</td>\n",
              "      <td>FIFA World Cup</td>\n",
              "      <td>Montpellier</td>\n",
              "      <td>France</td>\n",
              "      <td>True</td>\n",
              "    </tr>\n",
              "    <tr>\n",
              "      <th>4243</th>\n",
              "      <td>2019-06-29</td>\n",
              "      <td>Italy</td>\n",
              "      <td>Netherlands</td>\n",
              "      <td>0</td>\n",
              "      <td>2</td>\n",
              "      <td>FIFA World Cup</td>\n",
              "      <td>Valenciennes</td>\n",
              "      <td>France</td>\n",
              "      <td>True</td>\n",
              "    </tr>\n",
              "  </tbody>\n",
              "</table>\n",
              "<p>80 rows × 9 columns</p>\n",
              "</div>"
            ],
            "text/plain": [
              "            date home_team         away_team  ...          city  country neutral\n",
              "0     1969-11-01     Italy            France  ...        Novara    Italy   False\n",
              "3     1969-11-02     Italy           Denmark  ...         Turin    Italy   False\n",
              "24    1979-07-18     Italy  Northern Ireland  ...        Naples    Italy   False\n",
              "32    1979-07-22     Italy            Norway  ...     Benevento    Italy   False\n",
              "36    1979-07-25     Italy           England  ...        Naples    Italy   False\n",
              "...          ...       ...               ...  ...           ...      ...     ...\n",
              "3924  2018-04-10     Italy           Belgium  ...       Ferrara    Italy   False\n",
              "4018  2018-06-08     Italy          Portugal  ...      Florence    Italy   False\n",
              "4226  2019-06-18     Italy            Brazil  ...  Valenciennes   France    True\n",
              "4239  2019-06-25     Italy          China PR  ...   Montpellier   France    True\n",
              "4243  2019-06-29     Italy       Netherlands  ...  Valenciennes   France    True\n",
              "\n",
              "[80 rows x 9 columns]"
            ]
          },
          "metadata": {},
          "execution_count": 31
        }
      ]
    },
    {
      "cell_type": "code",
      "metadata": {
        "colab": {
          "base_uri": "https://localhost:8080/",
          "height": 419
        },
        "id": "ZrirRpYon1VA",
        "outputId": "ae0ec718-f9e3-4378-a2ec-78aec64dabb0"
      },
      "source": [
        "df[df['home_team'] == 'Italy'] #Declaração implícita do LOC"
      ],
      "execution_count": 32,
      "outputs": [
        {
          "output_type": "execute_result",
          "data": {
            "text/html": [
              "<div>\n",
              "<style scoped>\n",
              "    .dataframe tbody tr th:only-of-type {\n",
              "        vertical-align: middle;\n",
              "    }\n",
              "\n",
              "    .dataframe tbody tr th {\n",
              "        vertical-align: top;\n",
              "    }\n",
              "\n",
              "    .dataframe thead th {\n",
              "        text-align: right;\n",
              "    }\n",
              "</style>\n",
              "<table border=\"1\" class=\"dataframe\">\n",
              "  <thead>\n",
              "    <tr style=\"text-align: right;\">\n",
              "      <th></th>\n",
              "      <th>date</th>\n",
              "      <th>home_team</th>\n",
              "      <th>away_team</th>\n",
              "      <th>home_score</th>\n",
              "      <th>away_score</th>\n",
              "      <th>tournament</th>\n",
              "      <th>city</th>\n",
              "      <th>country</th>\n",
              "      <th>neutral</th>\n",
              "    </tr>\n",
              "  </thead>\n",
              "  <tbody>\n",
              "    <tr>\n",
              "      <th>0</th>\n",
              "      <td>1969-11-01</td>\n",
              "      <td>Italy</td>\n",
              "      <td>France</td>\n",
              "      <td>1</td>\n",
              "      <td>0</td>\n",
              "      <td>Euro</td>\n",
              "      <td>Novara</td>\n",
              "      <td>Italy</td>\n",
              "      <td>False</td>\n",
              "    </tr>\n",
              "    <tr>\n",
              "      <th>3</th>\n",
              "      <td>1969-11-02</td>\n",
              "      <td>Italy</td>\n",
              "      <td>Denmark</td>\n",
              "      <td>3</td>\n",
              "      <td>1</td>\n",
              "      <td>Euro</td>\n",
              "      <td>Turin</td>\n",
              "      <td>Italy</td>\n",
              "      <td>False</td>\n",
              "    </tr>\n",
              "    <tr>\n",
              "      <th>24</th>\n",
              "      <td>1979-07-18</td>\n",
              "      <td>Italy</td>\n",
              "      <td>Northern Ireland</td>\n",
              "      <td>4</td>\n",
              "      <td>0</td>\n",
              "      <td>Euro</td>\n",
              "      <td>Naples</td>\n",
              "      <td>Italy</td>\n",
              "      <td>False</td>\n",
              "    </tr>\n",
              "    <tr>\n",
              "      <th>32</th>\n",
              "      <td>1979-07-22</td>\n",
              "      <td>Italy</td>\n",
              "      <td>Norway</td>\n",
              "      <td>2</td>\n",
              "      <td>1</td>\n",
              "      <td>Euro</td>\n",
              "      <td>Benevento</td>\n",
              "      <td>Italy</td>\n",
              "      <td>False</td>\n",
              "    </tr>\n",
              "    <tr>\n",
              "      <th>36</th>\n",
              "      <td>1979-07-25</td>\n",
              "      <td>Italy</td>\n",
              "      <td>England</td>\n",
              "      <td>3</td>\n",
              "      <td>1</td>\n",
              "      <td>Euro</td>\n",
              "      <td>Naples</td>\n",
              "      <td>Italy</td>\n",
              "      <td>False</td>\n",
              "    </tr>\n",
              "    <tr>\n",
              "      <th>...</th>\n",
              "      <td>...</td>\n",
              "      <td>...</td>\n",
              "      <td>...</td>\n",
              "      <td>...</td>\n",
              "      <td>...</td>\n",
              "      <td>...</td>\n",
              "      <td>...</td>\n",
              "      <td>...</td>\n",
              "      <td>...</td>\n",
              "    </tr>\n",
              "    <tr>\n",
              "      <th>3924</th>\n",
              "      <td>2018-04-10</td>\n",
              "      <td>Italy</td>\n",
              "      <td>Belgium</td>\n",
              "      <td>2</td>\n",
              "      <td>1</td>\n",
              "      <td>FIFA World Cup qualification</td>\n",
              "      <td>Ferrara</td>\n",
              "      <td>Italy</td>\n",
              "      <td>False</td>\n",
              "    </tr>\n",
              "    <tr>\n",
              "      <th>4018</th>\n",
              "      <td>2018-06-08</td>\n",
              "      <td>Italy</td>\n",
              "      <td>Portugal</td>\n",
              "      <td>3</td>\n",
              "      <td>0</td>\n",
              "      <td>FIFA World Cup qualification</td>\n",
              "      <td>Florence</td>\n",
              "      <td>Italy</td>\n",
              "      <td>False</td>\n",
              "    </tr>\n",
              "    <tr>\n",
              "      <th>4226</th>\n",
              "      <td>2019-06-18</td>\n",
              "      <td>Italy</td>\n",
              "      <td>Brazil</td>\n",
              "      <td>0</td>\n",
              "      <td>1</td>\n",
              "      <td>FIFA World Cup</td>\n",
              "      <td>Valenciennes</td>\n",
              "      <td>France</td>\n",
              "      <td>True</td>\n",
              "    </tr>\n",
              "    <tr>\n",
              "      <th>4239</th>\n",
              "      <td>2019-06-25</td>\n",
              "      <td>Italy</td>\n",
              "      <td>China PR</td>\n",
              "      <td>2</td>\n",
              "      <td>0</td>\n",
              "      <td>FIFA World Cup</td>\n",
              "      <td>Montpellier</td>\n",
              "      <td>France</td>\n",
              "      <td>True</td>\n",
              "    </tr>\n",
              "    <tr>\n",
              "      <th>4243</th>\n",
              "      <td>2019-06-29</td>\n",
              "      <td>Italy</td>\n",
              "      <td>Netherlands</td>\n",
              "      <td>0</td>\n",
              "      <td>2</td>\n",
              "      <td>FIFA World Cup</td>\n",
              "      <td>Valenciennes</td>\n",
              "      <td>France</td>\n",
              "      <td>True</td>\n",
              "    </tr>\n",
              "  </tbody>\n",
              "</table>\n",
              "<p>80 rows × 9 columns</p>\n",
              "</div>"
            ],
            "text/plain": [
              "            date home_team         away_team  ...          city  country neutral\n",
              "0     1969-11-01     Italy            France  ...        Novara    Italy   False\n",
              "3     1969-11-02     Italy           Denmark  ...         Turin    Italy   False\n",
              "24    1979-07-18     Italy  Northern Ireland  ...        Naples    Italy   False\n",
              "32    1979-07-22     Italy            Norway  ...     Benevento    Italy   False\n",
              "36    1979-07-25     Italy           England  ...        Naples    Italy   False\n",
              "...          ...       ...               ...  ...           ...      ...     ...\n",
              "3924  2018-04-10     Italy           Belgium  ...       Ferrara    Italy   False\n",
              "4018  2018-06-08     Italy          Portugal  ...      Florence    Italy   False\n",
              "4226  2019-06-18     Italy            Brazil  ...  Valenciennes   France    True\n",
              "4239  2019-06-25     Italy          China PR  ...   Montpellier   France    True\n",
              "4243  2019-06-29     Italy       Netherlands  ...  Valenciennes   France    True\n",
              "\n",
              "[80 rows x 9 columns]"
            ]
          },
          "metadata": {},
          "execution_count": 32
        }
      ]
    },
    {
      "cell_type": "code",
      "metadata": {
        "colab": {
          "base_uri": "https://localhost:8080/",
          "height": 80
        },
        "id": "ZaqroqJBoZU-",
        "outputId": "fc26b096-e588-44bf-abf6-0e947a210608"
      },
      "source": [
        "df[(df['home_team'] == 'Italy') & (df['away_team'] == 'Brazil')]"
      ],
      "execution_count": 33,
      "outputs": [
        {
          "output_type": "execute_result",
          "data": {
            "text/html": [
              "<div>\n",
              "<style scoped>\n",
              "    .dataframe tbody tr th:only-of-type {\n",
              "        vertical-align: middle;\n",
              "    }\n",
              "\n",
              "    .dataframe tbody tr th {\n",
              "        vertical-align: top;\n",
              "    }\n",
              "\n",
              "    .dataframe thead th {\n",
              "        text-align: right;\n",
              "    }\n",
              "</style>\n",
              "<table border=\"1\" class=\"dataframe\">\n",
              "  <thead>\n",
              "    <tr style=\"text-align: right;\">\n",
              "      <th></th>\n",
              "      <th>date</th>\n",
              "      <th>home_team</th>\n",
              "      <th>away_team</th>\n",
              "      <th>home_score</th>\n",
              "      <th>away_score</th>\n",
              "      <th>tournament</th>\n",
              "      <th>city</th>\n",
              "      <th>country</th>\n",
              "      <th>neutral</th>\n",
              "    </tr>\n",
              "  </thead>\n",
              "  <tbody>\n",
              "    <tr>\n",
              "      <th>4226</th>\n",
              "      <td>2019-06-18</td>\n",
              "      <td>Italy</td>\n",
              "      <td>Brazil</td>\n",
              "      <td>0</td>\n",
              "      <td>1</td>\n",
              "      <td>FIFA World Cup</td>\n",
              "      <td>Valenciennes</td>\n",
              "      <td>France</td>\n",
              "      <td>True</td>\n",
              "    </tr>\n",
              "  </tbody>\n",
              "</table>\n",
              "</div>"
            ],
            "text/plain": [
              "            date home_team away_team  ...          city  country neutral\n",
              "4226  2019-06-18     Italy    Brazil  ...  Valenciennes   France    True\n",
              "\n",
              "[1 rows x 9 columns]"
            ]
          },
          "metadata": {},
          "execution_count": 33
        }
      ]
    },
    {
      "cell_type": "code",
      "metadata": {
        "colab": {
          "base_uri": "https://localhost:8080/"
        },
        "id": "bAdWKPZhopjA",
        "outputId": "01287a85-e26f-4cb9-8e27-b5704f049988"
      },
      "source": [
        "df['date'].str.slice(start=0, step=1, stop=4)"
      ],
      "execution_count": 34,
      "outputs": [
        {
          "output_type": "execute_result",
          "data": {
            "text/plain": [
              "0       1969\n",
              "1       1969\n",
              "2       1969\n",
              "3       1969\n",
              "4       1975\n",
              "        ... \n",
              "4291    2021\n",
              "4292    2021\n",
              "4293    2021\n",
              "4294    2021\n",
              "4295    2021\n",
              "Name: date, Length: 4296, dtype: object"
            ]
          },
          "metadata": {},
          "execution_count": 34
        }
      ]
    },
    {
      "cell_type": "code",
      "metadata": {
        "id": "nijPsvDTpAG8"
      },
      "source": [
        "df_com_ano = df\n",
        "\n",
        "df_com_ano['ano'] = df['date'].str.slice(start=0, step=1, stop=4)"
      ],
      "execution_count": 56,
      "outputs": []
    },
    {
      "cell_type": "code",
      "metadata": {
        "colab": {
          "base_uri": "https://localhost:8080/",
          "height": 204
        },
        "id": "71yegbG_pndt",
        "outputId": "b00c364b-b5bc-4e2a-955b-cc98c2a4e5e6"
      },
      "source": [
        "df_com_ano.head()"
      ],
      "execution_count": 36,
      "outputs": [
        {
          "output_type": "execute_result",
          "data": {
            "text/html": [
              "<div>\n",
              "<style scoped>\n",
              "    .dataframe tbody tr th:only-of-type {\n",
              "        vertical-align: middle;\n",
              "    }\n",
              "\n",
              "    .dataframe tbody tr th {\n",
              "        vertical-align: top;\n",
              "    }\n",
              "\n",
              "    .dataframe thead th {\n",
              "        text-align: right;\n",
              "    }\n",
              "</style>\n",
              "<table border=\"1\" class=\"dataframe\">\n",
              "  <thead>\n",
              "    <tr style=\"text-align: right;\">\n",
              "      <th></th>\n",
              "      <th>date</th>\n",
              "      <th>home_team</th>\n",
              "      <th>away_team</th>\n",
              "      <th>home_score</th>\n",
              "      <th>away_score</th>\n",
              "      <th>tournament</th>\n",
              "      <th>city</th>\n",
              "      <th>country</th>\n",
              "      <th>neutral</th>\n",
              "      <th>ano</th>\n",
              "    </tr>\n",
              "  </thead>\n",
              "  <tbody>\n",
              "    <tr>\n",
              "      <th>0</th>\n",
              "      <td>1969-11-01</td>\n",
              "      <td>Italy</td>\n",
              "      <td>France</td>\n",
              "      <td>1</td>\n",
              "      <td>0</td>\n",
              "      <td>Euro</td>\n",
              "      <td>Novara</td>\n",
              "      <td>Italy</td>\n",
              "      <td>False</td>\n",
              "      <td>1969</td>\n",
              "    </tr>\n",
              "    <tr>\n",
              "      <th>1</th>\n",
              "      <td>1969-11-01</td>\n",
              "      <td>Denmark</td>\n",
              "      <td>England</td>\n",
              "      <td>4</td>\n",
              "      <td>3</td>\n",
              "      <td>Euro</td>\n",
              "      <td>Aosta</td>\n",
              "      <td>Italy</td>\n",
              "      <td>True</td>\n",
              "      <td>1969</td>\n",
              "    </tr>\n",
              "    <tr>\n",
              "      <th>2</th>\n",
              "      <td>1969-11-02</td>\n",
              "      <td>England</td>\n",
              "      <td>France</td>\n",
              "      <td>2</td>\n",
              "      <td>0</td>\n",
              "      <td>Euro</td>\n",
              "      <td>Turin</td>\n",
              "      <td>Italy</td>\n",
              "      <td>True</td>\n",
              "      <td>1969</td>\n",
              "    </tr>\n",
              "    <tr>\n",
              "      <th>3</th>\n",
              "      <td>1969-11-02</td>\n",
              "      <td>Italy</td>\n",
              "      <td>Denmark</td>\n",
              "      <td>3</td>\n",
              "      <td>1</td>\n",
              "      <td>Euro</td>\n",
              "      <td>Turin</td>\n",
              "      <td>Italy</td>\n",
              "      <td>False</td>\n",
              "      <td>1969</td>\n",
              "    </tr>\n",
              "    <tr>\n",
              "      <th>4</th>\n",
              "      <td>1975-08-25</td>\n",
              "      <td>Thailand</td>\n",
              "      <td>Australia</td>\n",
              "      <td>3</td>\n",
              "      <td>2</td>\n",
              "      <td>AFC Championship</td>\n",
              "      <td>Hong Kong</td>\n",
              "      <td>Hong Kong</td>\n",
              "      <td>True</td>\n",
              "      <td>1975</td>\n",
              "    </tr>\n",
              "  </tbody>\n",
              "</table>\n",
              "</div>"
            ],
            "text/plain": [
              "         date home_team  away_team  ...    country  neutral   ano\n",
              "0  1969-11-01     Italy     France  ...      Italy    False  1969\n",
              "1  1969-11-01   Denmark    England  ...      Italy     True  1969\n",
              "2  1969-11-02   England     France  ...      Italy     True  1969\n",
              "3  1969-11-02     Italy    Denmark  ...      Italy    False  1969\n",
              "4  1975-08-25  Thailand  Australia  ...  Hong Kong     True  1975\n",
              "\n",
              "[5 rows x 10 columns]"
            ]
          },
          "metadata": {},
          "execution_count": 36
        }
      ]
    },
    {
      "cell_type": "markdown",
      "metadata": {
        "id": "cGNWoFuhqsxQ"
      },
      "source": [
        "# Exploração dos Dados - Sumarização"
      ]
    },
    {
      "cell_type": "code",
      "metadata": {
        "id": "NgnfXhQRqA-P"
      },
      "source": [
        "dfBrasil = df[df['country'] == 'Brazil'] # Filtrando todos jogos que aconteceram no Brasil"
      ],
      "execution_count": 37,
      "outputs": []
    },
    {
      "cell_type": "code",
      "metadata": {
        "colab": {
          "base_uri": "https://localhost:8080/",
          "height": 359
        },
        "id": "dWRhyDhhrOvx",
        "outputId": "b88b6561-b2fa-4149-8b32-84a44aa3bafb"
      },
      "source": [
        "dfBrasil.head(10)"
      ],
      "execution_count": 38,
      "outputs": [
        {
          "output_type": "execute_result",
          "data": {
            "text/html": [
              "<div>\n",
              "<style scoped>\n",
              "    .dataframe tbody tr th:only-of-type {\n",
              "        vertical-align: middle;\n",
              "    }\n",
              "\n",
              "    .dataframe tbody tr th {\n",
              "        vertical-align: top;\n",
              "    }\n",
              "\n",
              "    .dataframe thead th {\n",
              "        text-align: right;\n",
              "    }\n",
              "</style>\n",
              "<table border=\"1\" class=\"dataframe\">\n",
              "  <thead>\n",
              "    <tr style=\"text-align: right;\">\n",
              "      <th></th>\n",
              "      <th>date</th>\n",
              "      <th>home_team</th>\n",
              "      <th>away_team</th>\n",
              "      <th>home_score</th>\n",
              "      <th>away_score</th>\n",
              "      <th>tournament</th>\n",
              "      <th>city</th>\n",
              "      <th>country</th>\n",
              "      <th>neutral</th>\n",
              "      <th>ano</th>\n",
              "    </tr>\n",
              "  </thead>\n",
              "  <tbody>\n",
              "    <tr>\n",
              "      <th>381</th>\n",
              "      <td>1991-04-28</td>\n",
              "      <td>Brazil</td>\n",
              "      <td>Chile</td>\n",
              "      <td>6</td>\n",
              "      <td>1</td>\n",
              "      <td>Copa América</td>\n",
              "      <td>Maringá</td>\n",
              "      <td>Brazil</td>\n",
              "      <td>False</td>\n",
              "      <td>1991</td>\n",
              "    </tr>\n",
              "    <tr>\n",
              "      <th>383</th>\n",
              "      <td>1991-05-01</td>\n",
              "      <td>Chile</td>\n",
              "      <td>Venezuela</td>\n",
              "      <td>1</td>\n",
              "      <td>0</td>\n",
              "      <td>Copa América</td>\n",
              "      <td>Maringá</td>\n",
              "      <td>Brazil</td>\n",
              "      <td>True</td>\n",
              "      <td>1991</td>\n",
              "    </tr>\n",
              "    <tr>\n",
              "      <th>385</th>\n",
              "      <td>1991-05-05</td>\n",
              "      <td>Brazil</td>\n",
              "      <td>Venezuela</td>\n",
              "      <td>6</td>\n",
              "      <td>11</td>\n",
              "      <td>Copa América</td>\n",
              "      <td>Maringá</td>\n",
              "      <td>Brazil</td>\n",
              "      <td>False</td>\n",
              "      <td>1991</td>\n",
              "    </tr>\n",
              "    <tr>\n",
              "      <th>639</th>\n",
              "      <td>1995-01-08</td>\n",
              "      <td>Brazil</td>\n",
              "      <td>Ecuador</td>\n",
              "      <td>13</td>\n",
              "      <td>0</td>\n",
              "      <td>Copa América</td>\n",
              "      <td>Uberlândia</td>\n",
              "      <td>Brazil</td>\n",
              "      <td>False</td>\n",
              "      <td>1995</td>\n",
              "    </tr>\n",
              "    <tr>\n",
              "      <th>640</th>\n",
              "      <td>1995-01-08</td>\n",
              "      <td>Chile</td>\n",
              "      <td>Bolivia</td>\n",
              "      <td>11</td>\n",
              "      <td>0</td>\n",
              "      <td>Copa América</td>\n",
              "      <td>Uberlândia</td>\n",
              "      <td>Brazil</td>\n",
              "      <td>True</td>\n",
              "      <td>1995</td>\n",
              "    </tr>\n",
              "    <tr>\n",
              "      <th>642</th>\n",
              "      <td>1995-01-10</td>\n",
              "      <td>Brazil</td>\n",
              "      <td>Chile</td>\n",
              "      <td>6</td>\n",
              "      <td>1</td>\n",
              "      <td>Copa América</td>\n",
              "      <td>Uberlândia</td>\n",
              "      <td>Brazil</td>\n",
              "      <td>False</td>\n",
              "      <td>1995</td>\n",
              "    </tr>\n",
              "    <tr>\n",
              "      <th>643</th>\n",
              "      <td>1995-01-10</td>\n",
              "      <td>Argentina</td>\n",
              "      <td>Ecuador</td>\n",
              "      <td>5</td>\n",
              "      <td>1</td>\n",
              "      <td>Copa América</td>\n",
              "      <td>Uberlândia</td>\n",
              "      <td>Brazil</td>\n",
              "      <td>True</td>\n",
              "      <td>1995</td>\n",
              "    </tr>\n",
              "    <tr>\n",
              "      <th>644</th>\n",
              "      <td>1995-01-12</td>\n",
              "      <td>Argentina</td>\n",
              "      <td>Bolivia</td>\n",
              "      <td>12</td>\n",
              "      <td>0</td>\n",
              "      <td>Copa América</td>\n",
              "      <td>Uberlândia</td>\n",
              "      <td>Brazil</td>\n",
              "      <td>True</td>\n",
              "      <td>1995</td>\n",
              "    </tr>\n",
              "    <tr>\n",
              "      <th>645</th>\n",
              "      <td>1995-01-12</td>\n",
              "      <td>Chile</td>\n",
              "      <td>Ecuador</td>\n",
              "      <td>2</td>\n",
              "      <td>2</td>\n",
              "      <td>Copa América</td>\n",
              "      <td>Uberlândia</td>\n",
              "      <td>Brazil</td>\n",
              "      <td>True</td>\n",
              "      <td>1995</td>\n",
              "    </tr>\n",
              "    <tr>\n",
              "      <th>646</th>\n",
              "      <td>1995-01-14</td>\n",
              "      <td>Brazil</td>\n",
              "      <td>Argentina</td>\n",
              "      <td>8</td>\n",
              "      <td>0</td>\n",
              "      <td>Copa América</td>\n",
              "      <td>Uberlândia</td>\n",
              "      <td>Brazil</td>\n",
              "      <td>False</td>\n",
              "      <td>1995</td>\n",
              "    </tr>\n",
              "  </tbody>\n",
              "</table>\n",
              "</div>"
            ],
            "text/plain": [
              "           date  home_team  away_team  ...  country  neutral   ano\n",
              "381  1991-04-28     Brazil      Chile  ...   Brazil    False  1991\n",
              "383  1991-05-01      Chile  Venezuela  ...   Brazil     True  1991\n",
              "385  1991-05-05     Brazil  Venezuela  ...   Brazil    False  1991\n",
              "639  1995-01-08     Brazil    Ecuador  ...   Brazil    False  1995\n",
              "640  1995-01-08      Chile    Bolivia  ...   Brazil     True  1995\n",
              "642  1995-01-10     Brazil      Chile  ...   Brazil    False  1995\n",
              "643  1995-01-10  Argentina    Ecuador  ...   Brazil     True  1995\n",
              "644  1995-01-12  Argentina    Bolivia  ...   Brazil     True  1995\n",
              "645  1995-01-12      Chile    Ecuador  ...   Brazil     True  1995\n",
              "646  1995-01-14     Brazil  Argentina  ...   Brazil    False  1995\n",
              "\n",
              "[10 rows x 10 columns]"
            ]
          },
          "metadata": {},
          "execution_count": 38
        }
      ]
    },
    {
      "cell_type": "code",
      "metadata": {
        "colab": {
          "base_uri": "https://localhost:8080/"
        },
        "id": "keMfWchJrRR-",
        "outputId": "273551cb-6720-422b-c6cc-76116d124ab7"
      },
      "source": [
        "dfBrasil['country'].count()"
      ],
      "execution_count": 39,
      "outputs": [
        {
          "output_type": "execute_result",
          "data": {
            "text/plain": [
              "44"
            ]
          },
          "metadata": {},
          "execution_count": 39
        }
      ]
    },
    {
      "cell_type": "code",
      "metadata": {
        "colab": {
          "base_uri": "https://localhost:8080/"
        },
        "id": "ZIA8iTSSraCA",
        "outputId": "f10edb31-910a-4a1f-fca6-3d85a518c53a"
      },
      "source": [
        "df[df['country'] == 'Brazil']['country'].count()"
      ],
      "execution_count": 40,
      "outputs": [
        {
          "output_type": "execute_result",
          "data": {
            "text/plain": [
              "44"
            ]
          },
          "metadata": {},
          "execution_count": 40
        }
      ]
    },
    {
      "cell_type": "code",
      "metadata": {
        "colab": {
          "base_uri": "https://localhost:8080/"
        },
        "id": "l9ZHK6aDr1h1",
        "outputId": "45993afb-d0bd-497b-809f-3261c01f535a"
      },
      "source": [
        "dfBrasil['city'].nunique()"
      ],
      "execution_count": 41,
      "outputs": [
        {
          "output_type": "execute_result",
          "data": {
            "text/plain": [
              "8"
            ]
          },
          "metadata": {},
          "execution_count": 41
        }
      ]
    },
    {
      "cell_type": "code",
      "metadata": {
        "colab": {
          "base_uri": "https://localhost:8080/"
        },
        "id": "O3hfyQhdsD5H",
        "outputId": "6ffb6752-a8ca-480d-de4d-51d201f81eaa"
      },
      "source": [
        "score_home = dfBrasil[dfBrasil['home_team'] == 'Brazil']['home_score'].sum()\n",
        "\n",
        "score_home"
      ],
      "execution_count": 42,
      "outputs": [
        {
          "output_type": "execute_result",
          "data": {
            "text/plain": [
              "68"
            ]
          },
          "metadata": {},
          "execution_count": 42
        }
      ]
    },
    {
      "cell_type": "code",
      "metadata": {
        "colab": {
          "base_uri": "https://localhost:8080/"
        },
        "id": "6EvOg1GBso3_",
        "outputId": "774c4765-26a1-4c52-8811-7796cd455ce1"
      },
      "source": [
        " df[df['home_team'] == 'Brazil']['home_score'].sum()"
      ],
      "execution_count": 43,
      "outputs": [
        {
          "output_type": "execute_result",
          "data": {
            "text/plain": [
              "298"
            ]
          },
          "metadata": {},
          "execution_count": 43
        }
      ]
    },
    {
      "cell_type": "code",
      "metadata": {
        "colab": {
          "base_uri": "https://localhost:8080/"
        },
        "id": "dUTZout5s_yJ",
        "outputId": "fa212c5c-8196-4230-8f57-a890c2d1e912"
      },
      "source": [
        "df[(df['home_team'] == 'Brazil') & (df['country'] != 'Brazil')]['home_score'].sum()"
      ],
      "execution_count": 44,
      "outputs": [
        {
          "output_type": "execute_result",
          "data": {
            "text/plain": [
              "230"
            ]
          },
          "metadata": {},
          "execution_count": 44
        }
      ]
    },
    {
      "cell_type": "code",
      "metadata": {
        "id": "VsV-Jfwntla5"
      },
      "source": [
        ""
      ],
      "execution_count": 55,
      "outputs": []
    },
    {
      "cell_type": "code",
      "metadata": {
        "id": "iPwODiUj_CIC"
      },
      "source": [
        ""
      ],
      "execution_count": null,
      "outputs": []
    }
  ]
}